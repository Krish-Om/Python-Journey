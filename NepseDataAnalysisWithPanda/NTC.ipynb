{
 "cells": [
  {
   "cell_type": "code",
   "execution_count": 18,
   "id": "8e378980",
   "metadata": {},
   "outputs": [],
   "source": [
    "import pandas as pd\n",
    "import math"
   ]
  },
  {
   "cell_type": "code",
   "execution_count": 19,
   "id": "eb3ca31a",
   "metadata": {},
   "outputs": [],
   "source": [
    "NTC = pd.read_csv(\"./nepse-dataset/data/NTC_2000-01-01_2021-12-31.csv\",engine=\"pyarrow\",dtype_backend=\"pyarrow\")"
   ]
  },
  {
   "cell_type": "code",
   "execution_count": 20,
   "id": "55433a16",
   "metadata": {},
   "outputs": [
    {
     "data": {
      "text/html": [
       "<div>\n",
       "<style scoped>\n",
       "    .dataframe tbody tr th:only-of-type {\n",
       "        vertical-align: middle;\n",
       "    }\n",
       "\n",
       "    .dataframe tbody tr th {\n",
       "        vertical-align: top;\n",
       "    }\n",
       "\n",
       "    .dataframe thead th {\n",
       "        text-align: right;\n",
       "    }\n",
       "</style>\n",
       "<table border=\"1\" class=\"dataframe\">\n",
       "  <thead>\n",
       "    <tr style=\"text-align: right;\">\n",
       "      <th></th>\n",
       "      <th>S.N.</th>\n",
       "      <th>Date</th>\n",
       "      <th>Total Transactions</th>\n",
       "      <th>Total Traded Shares</th>\n",
       "      <th>Total Traded Amount</th>\n",
       "      <th>Max. Price</th>\n",
       "      <th>Min. Price</th>\n",
       "      <th>Close Price</th>\n",
       "    </tr>\n",
       "  </thead>\n",
       "  <tbody>\n",
       "    <tr>\n",
       "      <th>0</th>\n",
       "      <td>1</td>\n",
       "      <td>2021-12-29</td>\n",
       "      <td>215</td>\n",
       "      <td>30806.0</td>\n",
       "      <td>39598686.0</td>\n",
       "      <td>1305.0</td>\n",
       "      <td>1280.0</td>\n",
       "      <td>1283.0</td>\n",
       "    </tr>\n",
       "    <tr>\n",
       "      <th>1</th>\n",
       "      <td>2</td>\n",
       "      <td>2021-12-28</td>\n",
       "      <td>204</td>\n",
       "      <td>40509.0</td>\n",
       "      <td>52189110.7</td>\n",
       "      <td>1300.0</td>\n",
       "      <td>1263.3</td>\n",
       "      <td>1283.0</td>\n",
       "    </tr>\n",
       "    <tr>\n",
       "      <th>2</th>\n",
       "      <td>3</td>\n",
       "      <td>2021-12-27</td>\n",
       "      <td>354</td>\n",
       "      <td>61359.0</td>\n",
       "      <td>80857116.3</td>\n",
       "      <td>1360.0</td>\n",
       "      <td>1283.8</td>\n",
       "      <td>1283.8</td>\n",
       "    </tr>\n",
       "    <tr>\n",
       "      <th>3</th>\n",
       "      <td>4</td>\n",
       "      <td>2021-12-26</td>\n",
       "      <td>386</td>\n",
       "      <td>99511.0</td>\n",
       "      <td>133329533.5</td>\n",
       "      <td>1355.0</td>\n",
       "      <td>1320.0</td>\n",
       "      <td>1335.0</td>\n",
       "    </tr>\n",
       "    <tr>\n",
       "      <th>4</th>\n",
       "      <td>5</td>\n",
       "      <td>2021-12-23</td>\n",
       "      <td>347</td>\n",
       "      <td>61547.0</td>\n",
       "      <td>82635979.8</td>\n",
       "      <td>1362.0</td>\n",
       "      <td>1310.1</td>\n",
       "      <td>1335.0</td>\n",
       "    </tr>\n",
       "    <tr>\n",
       "      <th>...</th>\n",
       "      <td>...</td>\n",
       "      <td>...</td>\n",
       "      <td>...</td>\n",
       "      <td>...</td>\n",
       "      <td>...</td>\n",
       "      <td>...</td>\n",
       "      <td>...</td>\n",
       "      <td>...</td>\n",
       "    </tr>\n",
       "    <tr>\n",
       "      <th>2625</th>\n",
       "      <td>2626</td>\n",
       "      <td>2010-04-20</td>\n",
       "      <td>7</td>\n",
       "      <td>3870.0</td>\n",
       "      <td>1708480.0</td>\n",
       "      <td>445.0</td>\n",
       "      <td>440.0</td>\n",
       "      <td>444.0</td>\n",
       "    </tr>\n",
       "    <tr>\n",
       "      <th>2626</th>\n",
       "      <td>2627</td>\n",
       "      <td>2010-04-19</td>\n",
       "      <td>3</td>\n",
       "      <td>400.0</td>\n",
       "      <td>177500.0</td>\n",
       "      <td>445.0</td>\n",
       "      <td>441.0</td>\n",
       "      <td>441.0</td>\n",
       "    </tr>\n",
       "    <tr>\n",
       "      <th>2627</th>\n",
       "      <td>2628</td>\n",
       "      <td>2010-04-15</td>\n",
       "      <td>13</td>\n",
       "      <td>3300.0</td>\n",
       "      <td>1464600.0</td>\n",
       "      <td>455.0</td>\n",
       "      <td>422.0</td>\n",
       "      <td>455.0</td>\n",
       "    </tr>\n",
       "    <tr>\n",
       "      <th>2628</th>\n",
       "      <td>2629</td>\n",
       "      <td>2010-04-15</td>\n",
       "      <td>13</td>\n",
       "      <td>3300.0</td>\n",
       "      <td>1464600.0</td>\n",
       "      <td>455.0</td>\n",
       "      <td>422.0</td>\n",
       "      <td>455.0</td>\n",
       "    </tr>\n",
       "    <tr>\n",
       "      <th>2629</th>\n",
       "      <td>2630</td>\n",
       "      <td>2010-04-15</td>\n",
       "      <td>13</td>\n",
       "      <td>3300.0</td>\n",
       "      <td>1464600.0</td>\n",
       "      <td>455.0</td>\n",
       "      <td>422.0</td>\n",
       "      <td>455.0</td>\n",
       "    </tr>\n",
       "  </tbody>\n",
       "</table>\n",
       "<p>2630 rows × 8 columns</p>\n",
       "</div>"
      ],
      "text/plain": [
       "      S.N.        Date  Total Transactions  Total Traded Shares  \\\n",
       "0        1  2021-12-29                 215              30806.0   \n",
       "1        2  2021-12-28                 204              40509.0   \n",
       "2        3  2021-12-27                 354              61359.0   \n",
       "3        4  2021-12-26                 386              99511.0   \n",
       "4        5  2021-12-23                 347              61547.0   \n",
       "...    ...         ...                 ...                  ...   \n",
       "2625  2626  2010-04-20                   7               3870.0   \n",
       "2626  2627  2010-04-19                   3                400.0   \n",
       "2627  2628  2010-04-15                  13               3300.0   \n",
       "2628  2629  2010-04-15                  13               3300.0   \n",
       "2629  2630  2010-04-15                  13               3300.0   \n",
       "\n",
       "      Total Traded Amount  Max. Price  Min. Price  Close Price  \n",
       "0              39598686.0      1305.0      1280.0       1283.0  \n",
       "1              52189110.7      1300.0      1263.3       1283.0  \n",
       "2              80857116.3      1360.0      1283.8       1283.8  \n",
       "3             133329533.5      1355.0      1320.0       1335.0  \n",
       "4              82635979.8      1362.0      1310.1       1335.0  \n",
       "...                   ...         ...         ...          ...  \n",
       "2625            1708480.0       445.0       440.0        444.0  \n",
       "2626             177500.0       445.0       441.0        441.0  \n",
       "2627            1464600.0       455.0       422.0        455.0  \n",
       "2628            1464600.0       455.0       422.0        455.0  \n",
       "2629            1464600.0       455.0       422.0        455.0  \n",
       "\n",
       "[2630 rows x 8 columns]"
      ]
     },
     "execution_count": 20,
     "metadata": {},
     "output_type": "execute_result"
    }
   ],
   "source": [
    "NTC"
   ]
  },
  {
   "cell_type": "markdown",
   "id": "e17c1655",
   "metadata": {},
   "source": [
    "### Consistency of Close price "
   ]
  },
  {
   "cell_type": "code",
   "execution_count": 36,
   "id": "1bb87217",
   "metadata": {},
   "outputs": [
    {
     "data": {
      "text/plain": [
       "np.int64(2630)"
      ]
     },
     "execution_count": 36,
     "metadata": {},
     "output_type": "execute_result"
    }
   ],
   "source": [
    "NTC_close_price = NTC['Close Price'].copy()\n",
    "count_close_price = NTC_close_price.count()\n",
    "sum_close_price = NTC_close_price.sum()\n",
    "count_close_price\n"
   ]
  },
  {
   "cell_type": "code",
   "execution_count": 38,
   "id": "2b78bb98",
   "metadata": {},
   "outputs": [
    {
     "data": {
      "text/plain": [
       "684.4728973384031"
      ]
     },
     "execution_count": 38,
     "metadata": {},
     "output_type": "execute_result"
    }
   ],
   "source": [
    "mean = float(sum_close_price / (count_close_price))\n",
    "mean"
   ]
  },
  {
   "cell_type": "code",
   "execution_count": 35,
   "id": "50bd97cf",
   "metadata": {},
   "outputs": [
    {
     "data": {
      "text/plain": [
       "1362451363.4913998"
      ]
     },
     "execution_count": 35,
     "metadata": {},
     "output_type": "execute_result"
    }
   ],
   "source": [
    "NTC_SUM_SQUARE = 0\n",
    "for x in NTC_close_price:\n",
    "    NTC_SUM_SQUARE += x ** 2\n",
    "NTC_SUM_SQUARE"
   ]
  },
  {
   "cell_type": "code",
   "execution_count": 42,
   "id": "a42bff26",
   "metadata": {},
   "outputs": [
    {
     "data": {
      "text/plain": [
       "517864.20545407187"
      ]
     },
     "execution_count": 42,
     "metadata": {},
     "output_type": "execute_result"
    }
   ],
   "source": [
    "diff =float(( NTC_SUM_SQUARE - (mean ** 2))/count_close_price)\n",
    "diff"
   ]
  },
  {
   "cell_type": "code",
   "execution_count": 43,
   "id": "59d4c8cd",
   "metadata": {},
   "outputs": [
    {
     "data": {
      "text/plain": [
       "719.6278242633979"
      ]
     },
     "execution_count": 43,
     "metadata": {},
     "output_type": "execute_result"
    }
   ],
   "source": [
    "SD = math.sqrt(diff)\n",
    "SD"
   ]
  },
  {
   "cell_type": "code",
   "execution_count": 44,
   "id": "66aec9f8",
   "metadata": {},
   "outputs": [
    {
     "data": {
      "text/plain": [
       "105.13605828100658"
      ]
     },
     "execution_count": 44,
     "metadata": {},
     "output_type": "execute_result"
    }
   ],
   "source": [
    "## Coefficent of Variation\n",
    "\n",
    "CV = (SD/mean) * 100\n",
    "CV"
   ]
  }
 ],
 "metadata": {
  "kernelspec": {
   "display_name": ".venv",
   "language": "python",
   "name": "python3"
  },
  "language_info": {
   "codemirror_mode": {
    "name": "ipython",
    "version": 3
   },
   "file_extension": ".py",
   "mimetype": "text/x-python",
   "name": "python",
   "nbconvert_exporter": "python",
   "pygments_lexer": "ipython3",
   "version": "3.13.5"
  }
 },
 "nbformat": 4,
 "nbformat_minor": 5
}
